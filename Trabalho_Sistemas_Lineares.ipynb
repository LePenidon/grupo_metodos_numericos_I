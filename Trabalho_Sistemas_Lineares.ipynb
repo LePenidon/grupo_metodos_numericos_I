{
 "cells": [
  {
   "cell_type": "markdown",
   "id": "5f5b2190",
   "metadata": {},
   "source": [
    "## <font color='blue'>SME0104 - Cálculo Numérico</font>\n",
    "\n",
    "### Primeiro Trabalho em Grupo \n",
    "#### Comparação de Métodos na Solução do Laplaciano em Grafos para propagação de informação\n",
    "\n",
    "**Luis Gustavo Nonato**\n",
    "\n",
    "------"
   ]
  },
  {
   "cell_type": "markdown",
   "id": "7d14420b",
   "metadata": {},
   "source": [
    "Considere os arquivos `manh.el` e `manh.xy` que fornecem as arestas e as coordenadas dos vértices do grafo de ruas da ilha de Manhattan, NY (arquivos disponíveis para download no Google Drive).\n",
    "\n",
    "O grafo de ruas possui diversas componentes conexas, considerando somente a maior componente conexa, você deve realizar as seguintes tarefas:\n",
    "1. Selecione alguns vértices do grafo $v_{i_1},v_{i_2},\\ldots,v_{i_k},\\, k<<n$ ($n$ é o número de vértices na maior componente do grafo e $k$ é um número bem menor que $n$, $k=10$ por exemplo) e atribua valores distindos $c_{i_1},c_{i_2},\\ldots,c_{i_k}$ a cada um dos vértices selecionados (por exemplo valores no intervalo (0,10]);\n",
    "2. Construa a matriz Laplaciana $L$ do grafo de ruas;\n",
    "3. Construa a matriz de penalidades $P$, sendo $P$ é uma matriz diagonal onde a entrada $P_{jj}=\\alpha$ se $j$ corresponde ao índice de algum dos vértices escolhidos no item 1 acima ($\\alpha=1.0e7$ por exemplo), sendo $P_{ii}=0$ caso contrário.\n",
    "4. Construa um vetor $b$ da seguinte forma:\n",
    "$$\n",
    "b_{j} = \\left\\{\\begin{matrix} c_{i_s} & \\text{ se } j = i_s \\\\ 0 & \\text{ caso contrário}\\end{matrix}\\right.\n",
    "$$\n",
    "5. Compare o tempo de solução do sistema\n",
    "$$\n",
    "(L+P)x = Px\n",
    "$$\n",
    "para os métodos:\n",
    "    - Decomposição LU\n",
    "    - Cholesky\n",
    "    - Jacobi e Gaus-Seidel\n",
    "    - Gradientes Conjugados\n",
    "    \n",
    "6. Refaça as tarefas com representação por matriz esparsa e matrizes cheias, comparando os resultados."
   ]
  },
  {
   "cell_type": "code",
   "execution_count": 98,
   "id": "1315efb7",
   "metadata": {},
   "outputs": [
    {
     "name": "stdout",
     "output_type": "stream",
     "text": [
      "-1.0\n"
     ]
    }
   ],
   "source": [
    "# Solucao\n",
    "import numpy as np\n",
    "\n",
    "el = []\n",
    "xy = []\n",
    "col_1 = []\n",
    "col_2 = []\n",
    "count = 0\n",
    "aux_count = 0\n",
    "  \n",
    "f = open('./dados/manh.el','r')\n",
    "for row in f:\n",
    "    row = row.split('\\t')\n",
    "    row[1] = row[1].split('\\n')\n",
    "    aux = row[1]\n",
    "\n",
    "    col_1.append(int(row[0]))\n",
    "    col_2.append(int(aux[0]))\n",
    "\n",
    "    el.append([int(row[0]), int(aux[0])])\n",
    "\n",
    "f = open('./dados/manh.xy','r')\n",
    "for row in f:\n",
    "    row = row.split('\\t')\n",
    "    row[1] = row[1].split('\\n')\n",
    "    aux = row[1]\n",
    "\n",
    "    xy.append([float(row[0]), float(aux[0])])\n",
    "  \n",
    "# print(el[0][1])\n",
    "# print(len(xy))\n",
    "\n",
    "matriz_adjacencia = np.zeros((len(xy)+1,len(xy)+1))\n",
    "matriz_grau = np.zeros((len(xy)+1,len(xy)+1))\n",
    "\n",
    "for i in range(len(el)):\n",
    "    matriz_adjacencia[el[i][0],el[i][1]] = 1\n",
    "    matriz_adjacencia[el[i][1],el[i][0]] = 1\n",
    "\n",
    "dicionario = dict()\n",
    "for i in col_1:\n",
    "  dicionario[i] = dicionario.get(i, 0) + 1\n",
    "\n",
    "for i in col_2:\n",
    "  dicionario[i] = dicionario.get(i, 0) + 1\n",
    "\n",
    "count = 0\n",
    "for i in dicionario.keys():\n",
    "    count = count + 1\n",
    "    matriz_grau[i][i] = dicionario[i]\n",
    "\n",
    "matriz_laplaciana = matriz_grau - matriz_adjacencia\n",
    "\n",
    "print(matriz_laplaciana[8836][1855])"
   ]
  }
 ],
 "metadata": {
  "kernelspec": {
   "display_name": "Python 3 (ipykernel)",
   "language": "python",
   "name": "python3"
  },
  "language_info": {
   "codemirror_mode": {
    "name": "ipython",
    "version": 3
   },
   "file_extension": ".py",
   "mimetype": "text/x-python",
   "name": "python",
   "nbconvert_exporter": "python",
   "pygments_lexer": "ipython3",
   "version": "3.9.7"
  }
 },
 "nbformat": 4,
 "nbformat_minor": 5
}
