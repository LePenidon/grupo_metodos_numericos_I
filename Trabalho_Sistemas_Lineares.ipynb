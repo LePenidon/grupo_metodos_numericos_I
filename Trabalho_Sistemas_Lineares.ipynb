{
 "cells": [
  {
   "cell_type": "markdown",
   "id": "5f5b2190",
   "metadata": {},
   "source": [
    "## <font color='blue'>SME0104 - Cálculo Numérico</font>\n",
    "\n",
    "### Primeiro Trabalho em Grupo \n",
    "#### Comparação de Métodos na Solução do Laplaciano em Grafos para propagação de informação\n",
    "\n",
    "**Luis Gustavo Nonato**\n",
    "\n",
    "------"
   ]
  },
  {
   "cell_type": "markdown",
   "id": "7d14420b",
   "metadata": {},
   "source": [
    "Considere os arquivos `manh.el` e `manh.xy` que fornecem as arestas e as coordenadas dos vértices do grafo de ruas da ilha de Manhattan, NY (arquivos disponíveis para download no Google Drive).\n",
    "\n",
    "O grafo de ruas possui diversas componentes conexas, considerando somente a maior componente conexa, você deve realizar as seguintes tarefas:\n",
    "1. Selecione alguns vértices do grafo $v_{i_1},v_{i_2},\\ldots,v_{i_k},\\, k<<n$ ($n$ é o número de vértices na maior componente do grafo e $k$ é um número bem menor que $n$, $k=10$ por exemplo) e atribua valores distindos $c_{i_1},c_{i_2},\\ldots,c_{i_k}$ a cada um dos vértices selecionados (por exemplo valores no intervalo (0,10]);\n",
    "2. Construa a matriz Laplaciana $L$ do grafo de ruas;\n",
    "3. Construa a matriz de penalidades $P$, sendo $P$ é uma matriz diagonal onde a entrada $P_{jj}=\\alpha$ se $j$ corresponde ao índice de algum dos vértices escolhidos no item 1 acima ($\\alpha=1.0e7$ por exemplo), sendo $P_{ii}=0$ caso contrário.\n",
    "4. Construa um vetor $b$ da seguinte forma:\n",
    "$$\n",
    "b_{j} = \\left\\{\\begin{matrix} c_{i_s} & \\text{ se } j = i_s \\\\ 0 & \\text{ caso contrário}\\end{matrix}\\right.\n",
    "$$\n",
    "5. Compare o tempo de solução do sistema\n",
    "$$\n",
    "(L+P)x = Px\n",
    "$$\n",
    "para os métodos:\n",
    "    - Decomposição LU\n",
    "    - Cholesky\n",
    "    - Jacobi e Gaus-Seidel\n",
    "    - Gradientes Conjugados\n",
    "    \n",
    "6. Refaça as tarefas com representação por matriz esparsa e matrizes cheias, comparando os resultados."
   ]
  },
  {
   "cell_type": "code",
   "execution_count": 67,
   "id": "6101c1b2",
   "metadata": {},
   "outputs": [],
   "source": [
    "def componente_conexa_rec(matriz_adj, adj_copia, matriz_componente, i):\n",
    "    if(np.sum(matriz_adj[i]) == 1):\n",
    "        matriz_componente.append(matriz_adj[i])\n",
    "        np.delete(adj_copia, i, 0)\n",
    "\n",
    "        return\n",
    "\n",
    "    conectado = np.argwhere(matriz_adj[i]==1)\n",
    "\n",
    "    for x in conectado:\n",
    "        componente_conexa_rec(matriz_adj, adj_copia, matriz_componente, int(x))\n",
    "    \n",
    "def componente_conexa(matriz_adj, matriz_copia, matriz_componente):\n",
    "    componente_conexa_rec(matriz_adj, matriz_copia, matriz_componente, 0)\n",
    "    return"
   ]
  },
  {
   "cell_type": "code",
   "execution_count": 68,
   "id": "1315efb7",
   "metadata": {},
   "outputs": [],
   "source": [
    "# Solucao\n",
    "import numpy as np\n",
    "\n",
    "el = []\n",
    "xy = []\n",
    "col_1 = []\n",
    "col_2 = []\n",
    "count = 0\n",
    "aux_count = 0\n",
    "  \n",
    "f = open('./dados/manh.el','r')\n",
    "for row in f:\n",
    "    row = row.split('\\t')\n",
    "    row[1] = row[1].split('\\n')\n",
    "    aux = row[1]\n",
    "\n",
    "    col_1.append(int(row[0]))\n",
    "    col_2.append(int(aux[0]))\n",
    "\n",
    "    el.append([int(row[0]), int(aux[0])])\n",
    "\n",
    "f = open('./dados/manh.xy','r')\n",
    "for row in f:\n",
    "    row = row.split('\\t')\n",
    "    row[1] = row[1].split('\\n')\n",
    "    aux = row[1]\n",
    "\n",
    "    xy.append([float(row[0]), float(aux[0])])\n",
    "  \n",
    "matriz_adjacencia = np.zeros((len(xy)+1,len(xy)+1))\n",
    "matriz_grau = np.zeros((len(xy)+1,len(xy)+1))\n",
    "\n",
    "for i in range(len(el)):\n",
    "    matriz_adjacencia[el[i][0],el[i][1]] = 1\n",
    "    matriz_adjacencia[el[i][1],el[i][0]] = 1\n",
    "\n",
    "dict_frequencias = dict()\n",
    "for i in col_1:\n",
    "  dict_frequencias[i] = dict_frequencias.get(i, 0) + 1\n",
    "\n",
    "for i in col_2:\n",
    "  dict_frequencias[i] = dict_frequencias.get(i, 0) + 1\n",
    "\n",
    "count = 0\n",
    "for i in dict_frequencias.keys():\n",
    "    count = count + 1\n",
    "    matriz_grau[i][i] = dict_frequencias[i]\n",
    "\n",
    "# matriz_laplaciana = matriz_grau - matriz_adjacencia\n",
    "\n",
    "# print(matriz_laplaciana)"
   ]
  },
  {
   "cell_type": "code",
   "execution_count": 69,
   "id": "8a317abe",
   "metadata": {},
   "outputs": [
    {
     "ename": "RecursionError",
     "evalue": "maximum recursion depth exceeded while calling a Python object",
     "output_type": "error",
     "traceback": [
      "\u001b[0;31m---------------------------------------------------------------------------\u001b[0m",
      "\u001b[0;31mRecursionError\u001b[0m                            Traceback (most recent call last)",
      "\u001b[0;32m/tmp/ipykernel_12311/2363716457.py\u001b[0m in \u001b[0;36m<module>\u001b[0;34m\u001b[0m\n\u001b[1;32m      2\u001b[0m \u001b[0madj_copia\u001b[0m \u001b[0;34m=\u001b[0m \u001b[0mmatriz_adjacencia\u001b[0m\u001b[0;34m\u001b[0m\u001b[0;34m\u001b[0m\u001b[0m\n\u001b[1;32m      3\u001b[0m \u001b[0;34m\u001b[0m\u001b[0m\n\u001b[0;32m----> 4\u001b[0;31m \u001b[0mcomponente_conexa\u001b[0m\u001b[0;34m(\u001b[0m\u001b[0mmatriz_adjacencia\u001b[0m\u001b[0;34m,\u001b[0m \u001b[0madj_copia\u001b[0m\u001b[0;34m,\u001b[0m \u001b[0mmatriz_componente\u001b[0m\u001b[0;34m)\u001b[0m\u001b[0;34m\u001b[0m\u001b[0;34m\u001b[0m\u001b[0m\n\u001b[0m",
      "\u001b[0;32m/tmp/ipykernel_12311/3451137014.py\u001b[0m in \u001b[0;36mcomponente_conexa\u001b[0;34m(matriz_adj, matriz_copia, matriz_componente)\u001b[0m\n\u001b[1;32m     12\u001b[0m \u001b[0;34m\u001b[0m\u001b[0m\n\u001b[1;32m     13\u001b[0m \u001b[0;32mdef\u001b[0m \u001b[0mcomponente_conexa\u001b[0m\u001b[0;34m(\u001b[0m\u001b[0mmatriz_adj\u001b[0m\u001b[0;34m,\u001b[0m \u001b[0mmatriz_copia\u001b[0m\u001b[0;34m,\u001b[0m \u001b[0mmatriz_componente\u001b[0m\u001b[0;34m)\u001b[0m\u001b[0;34m:\u001b[0m\u001b[0;34m\u001b[0m\u001b[0;34m\u001b[0m\u001b[0m\n\u001b[0;32m---> 14\u001b[0;31m     \u001b[0mcomponente_conexa_rec\u001b[0m\u001b[0;34m(\u001b[0m\u001b[0mmatriz_adj\u001b[0m\u001b[0;34m,\u001b[0m \u001b[0mmatriz_copia\u001b[0m\u001b[0;34m,\u001b[0m \u001b[0mmatriz_componente\u001b[0m\u001b[0;34m,\u001b[0m \u001b[0;36m0\u001b[0m\u001b[0;34m)\u001b[0m\u001b[0;34m\u001b[0m\u001b[0;34m\u001b[0m\u001b[0m\n\u001b[0m\u001b[1;32m     15\u001b[0m     \u001b[0;32mreturn\u001b[0m\u001b[0;34m\u001b[0m\u001b[0;34m\u001b[0m\u001b[0m\n",
      "\u001b[0;32m/tmp/ipykernel_12311/3451137014.py\u001b[0m in \u001b[0;36mcomponente_conexa_rec\u001b[0;34m(matriz_adj, adj_copia, matriz_componente, i)\u001b[0m\n\u001b[1;32m      9\u001b[0m \u001b[0;34m\u001b[0m\u001b[0m\n\u001b[1;32m     10\u001b[0m     \u001b[0;32mfor\u001b[0m \u001b[0mx\u001b[0m \u001b[0;32min\u001b[0m \u001b[0mconectado\u001b[0m\u001b[0;34m:\u001b[0m\u001b[0;34m\u001b[0m\u001b[0;34m\u001b[0m\u001b[0m\n\u001b[0;32m---> 11\u001b[0;31m         \u001b[0mcomponente_conexa_rec\u001b[0m\u001b[0;34m(\u001b[0m\u001b[0mmatriz_adj\u001b[0m\u001b[0;34m,\u001b[0m \u001b[0madj_copia\u001b[0m\u001b[0;34m,\u001b[0m \u001b[0mmatriz_componente\u001b[0m\u001b[0;34m,\u001b[0m \u001b[0mint\u001b[0m\u001b[0;34m(\u001b[0m\u001b[0mx\u001b[0m\u001b[0;34m)\u001b[0m\u001b[0;34m)\u001b[0m\u001b[0;34m\u001b[0m\u001b[0;34m\u001b[0m\u001b[0m\n\u001b[0m\u001b[1;32m     12\u001b[0m \u001b[0;34m\u001b[0m\u001b[0m\n\u001b[1;32m     13\u001b[0m \u001b[0;32mdef\u001b[0m \u001b[0mcomponente_conexa\u001b[0m\u001b[0;34m(\u001b[0m\u001b[0mmatriz_adj\u001b[0m\u001b[0;34m,\u001b[0m \u001b[0mmatriz_copia\u001b[0m\u001b[0;34m,\u001b[0m \u001b[0mmatriz_componente\u001b[0m\u001b[0;34m)\u001b[0m\u001b[0;34m:\u001b[0m\u001b[0;34m\u001b[0m\u001b[0;34m\u001b[0m\u001b[0m\n",
      "... last 1 frames repeated, from the frame below ...\n",
      "\u001b[0;32m/tmp/ipykernel_12311/3451137014.py\u001b[0m in \u001b[0;36mcomponente_conexa_rec\u001b[0;34m(matriz_adj, adj_copia, matriz_componente, i)\u001b[0m\n\u001b[1;32m      9\u001b[0m \u001b[0;34m\u001b[0m\u001b[0m\n\u001b[1;32m     10\u001b[0m     \u001b[0;32mfor\u001b[0m \u001b[0mx\u001b[0m \u001b[0;32min\u001b[0m \u001b[0mconectado\u001b[0m\u001b[0;34m:\u001b[0m\u001b[0;34m\u001b[0m\u001b[0;34m\u001b[0m\u001b[0m\n\u001b[0;32m---> 11\u001b[0;31m         \u001b[0mcomponente_conexa_rec\u001b[0m\u001b[0;34m(\u001b[0m\u001b[0mmatriz_adj\u001b[0m\u001b[0;34m,\u001b[0m \u001b[0madj_copia\u001b[0m\u001b[0;34m,\u001b[0m \u001b[0mmatriz_componente\u001b[0m\u001b[0;34m,\u001b[0m \u001b[0mint\u001b[0m\u001b[0;34m(\u001b[0m\u001b[0mx\u001b[0m\u001b[0;34m)\u001b[0m\u001b[0;34m)\u001b[0m\u001b[0;34m\u001b[0m\u001b[0;34m\u001b[0m\u001b[0m\n\u001b[0m\u001b[1;32m     12\u001b[0m \u001b[0;34m\u001b[0m\u001b[0m\n\u001b[1;32m     13\u001b[0m \u001b[0;32mdef\u001b[0m \u001b[0mcomponente_conexa\u001b[0m\u001b[0;34m(\u001b[0m\u001b[0mmatriz_adj\u001b[0m\u001b[0;34m,\u001b[0m \u001b[0mmatriz_copia\u001b[0m\u001b[0;34m,\u001b[0m \u001b[0mmatriz_componente\u001b[0m\u001b[0;34m)\u001b[0m\u001b[0;34m:\u001b[0m\u001b[0;34m\u001b[0m\u001b[0;34m\u001b[0m\u001b[0m\n",
      "\u001b[0;31mRecursionError\u001b[0m: maximum recursion depth exceeded while calling a Python object"
     ]
    }
   ],
   "source": [
    "matriz_componente = []\n",
    "adj_copia = matriz_adjacencia\n",
    "\n",
    "componente_conexa(matriz_adjacencia, adj_copia, matriz_componente)"
   ]
  }
 ],
 "metadata": {
  "kernelspec": {
   "display_name": "Python 3 (ipykernel)",
   "language": "python",
   "name": "python3"
  },
  "language_info": {
   "codemirror_mode": {
    "name": "ipython",
    "version": 3
   },
   "file_extension": ".py",
   "mimetype": "text/x-python",
   "name": "python",
   "nbconvert_exporter": "python",
   "pygments_lexer": "ipython3",
   "version": "3.9.7"
  }
 },
 "nbformat": 4,
 "nbformat_minor": 5
}
